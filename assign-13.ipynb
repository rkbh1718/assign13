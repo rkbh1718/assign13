{
 "cells": [
  {
   "cell_type": "markdown",
   "id": "fd8cfc1b",
   "metadata": {},
   "source": [
    "# 1. What advantages do Excel spreadsheets have over CSV spreadsheets?"
   ]
  },
  {
   "cell_type": "code",
   "execution_count": null,
   "id": "6ce26b7a",
   "metadata": {},
   "outputs": [],
   "source": [
    "Excel is more superior when compared with the CSV file format; thus, CSV consumes less amount of file size when the user is importing data; it is a much faster format compared to excel. CSV does not manipulate data and stores it as-is. Excel also allows the user the add-in feature"
   ]
  },
  {
   "cell_type": "markdown",
   "id": "4dc5982f",
   "metadata": {},
   "source": [
    "# 2.What do you pass to csv.reader() and csv.writer() to create reader and writer objects?"
   ]
  },
  {
   "cell_type": "markdown",
   "id": "f7c4b418",
   "metadata": {},
   "source": [
    "csv.reader(csv_file, delimiter=',')\n",
    "csv.writer(csvfile)"
   ]
  },
  {
   "cell_type": "markdown",
   "id": "4cc37d6b",
   "metadata": {},
   "source": [
    "# 3. What modes do File objects for reader and writer objects need to be opened in?"
   ]
  },
  {
   "cell_type": "code",
   "execution_count": null,
   "id": "13c6e020",
   "metadata": {},
   "outputs": [],
   "source": [
    "#read\n",
    "my_file=open(\"test1.txt\",\"r\")\n",
    "#write\n",
    "my_file=open(\"test1.txt\",\"w\")\n"
   ]
  },
  {
   "cell_type": "markdown",
   "id": "6dc88ec8",
   "metadata": {},
   "source": [
    "# 4. What method takes a list argument and writes it to a CSV file?"
   ]
  },
  {
   "cell_type": "code",
   "execution_count": null,
   "id": "e743ac6b",
   "metadata": {},
   "outputs": [],
   "source": [
    "#The csv.writer writerow method takes an iterable as an argument. Your result set has to be a list (rows) of lists (columns).\n",
    "\n",
    "csvwriter.writerow(row)"
   ]
  },
  {
   "cell_type": "markdown",
   "id": "9e062b1b",
   "metadata": {},
   "source": [
    "# 5. What do the keyword arguments delimiter and line terminator do?"
   ]
  },
  {
   "cell_type": "code",
   "execution_count": null,
   "id": "31ba59a1",
   "metadata": {},
   "outputs": [],
   "source": [
    "The line terminator is the character that comes at the end of a row. By default, the line terminator is a newline. You can change characters to different values by using the delimiter and lineterminator keyword arguments with csv. writer()"
   ]
  },
  {
   "cell_type": "markdown",
   "id": "244cd8bf",
   "metadata": {},
   "source": [
    "# 6. What function takes a string of JSON data and returns a Python data structure"
   ]
  },
  {
   "cell_type": "code",
   "execution_count": null,
   "id": "bf11b8cb",
   "metadata": {},
   "outputs": [],
   "source": [
    "jason.load()"
   ]
  },
  {
   "cell_type": "markdown",
   "id": "3d838258",
   "metadata": {},
   "source": [
    "# 7. What function takes a Python data structure and returns a string of JSON data?"
   ]
  },
  {
   "cell_type": "code",
   "execution_count": null,
   "id": "3f66b451",
   "metadata": {},
   "outputs": [],
   "source": [
    "jason.dumps()"
   ]
  }
 ],
 "metadata": {
  "kernelspec": {
   "display_name": "Python 3",
   "language": "python",
   "name": "python3"
  },
  "language_info": {
   "codemirror_mode": {
    "name": "ipython",
    "version": 3
   },
   "file_extension": ".py",
   "mimetype": "text/x-python",
   "name": "python",
   "nbconvert_exporter": "python",
   "pygments_lexer": "ipython3",
   "version": "3.8.8"
  }
 },
 "nbformat": 4,
 "nbformat_minor": 5
}
